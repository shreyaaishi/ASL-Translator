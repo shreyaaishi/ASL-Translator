{
  "nbformat": 4,
  "nbformat_minor": 0,
  "metadata": {
    "colab": {
      "name": "ImagePreprocessingTutorial.ipynb",
      "provenance": [],
      "authorship_tag": "ABX9TyOOy62oWgKW0WIMw8GrT+eJ",
      "include_colab_link": true
    },
    "kernelspec": {
      "name": "python3",
      "display_name": "Python 3"
    },
    "language_info": {
      "name": "python"
    }
  },
  "cells": [
    {
      "cell_type": "markdown",
      "metadata": {
        "id": "view-in-github",
        "colab_type": "text"
      },
      "source": [
        "<a href=\"https://colab.research.google.com/github/shreyaaishi/ASL-Translator/blob/main/ImagePreprocessingTutorial.ipynb\" target=\"_parent\"><img src=\"https://colab.research.google.com/assets/colab-badge.svg\" alt=\"Open In Colab\"/></a>"
      ]
    },
    {
      "cell_type": "markdown",
      "source": [
        "# Import Data"
      ],
      "metadata": {
        "id": "jhcBT3pH48we"
      }
    },
    {
      "cell_type": "code",
      "execution_count": null,
      "metadata": {
        "id": "JwaB6AyYtx3_"
      },
      "outputs": [],
      "source": [
        ""
      ]
    },
    {
      "cell_type": "markdown",
      "source": [
        "# Data Preprocessing\n"
      ],
      "metadata": {
        "id": "9PVUsUOl47r0"
      }
    },
    {
      "cell_type": "markdown",
      "source": [
        "## Grayscale Conversion"
      ],
      "metadata": {
        "id": "Y-ZIsHyW5RFf"
      }
    },
    {
      "cell_type": "code",
      "source": [
        ""
      ],
      "metadata": {
        "id": "BCGASuSL5Il-"
      },
      "execution_count": null,
      "outputs": []
    },
    {
      "cell_type": "markdown",
      "source": [
        "# Additional Resources\n",
        "\n",
        "\n",
        "*   [Getting Started with Image Preprocessing in Python](https://www.section.io/engineering-education/image-preprocessing-in-python/)\n",
        "*    [The Computer Vision Pipeline, Part 3: image preprocessing](https://freecontent.manning.com/the-computer-vision-pipeline-part-3-image-preprocessing/)\n",
        "*  [Data Preprocessing and Network Building in CNN](https://towardsdatascience.com/data-preprocessing-and-network-building-in-cnn-15624ef3a28b)"
      ],
      "metadata": {
        "id": "9-LQo5OX4KIW"
      }
    }
  ]
}